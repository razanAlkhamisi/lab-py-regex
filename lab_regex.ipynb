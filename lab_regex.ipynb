{
  "cells": [
    {
      "cell_type": "markdown",
      "metadata": {
        "id": "0TlU8wFc7jpG"
      },
      "source": [
        "# LAB | Regular Expressions (Regex) in Python"
      ]
    },
    {
      "cell_type": "markdown",
      "metadata": {
        "id": "3CyQMw197jpK"
      },
      "source": [
        "## Overview\n",
        "This exercise notebook will help you practice using regular expressions in Python. Regular expressions are powerful tools for matching patterns in strings, which can be useful for validation, searching, and data manipulation.\n",
        "\n",
        "## Instructions\n",
        "- Complete each exercise by writing the appropriate regex pattern and Python code in the provided space.\n",
        "- Test your code to ensure it works as expected.\n",
        "<!-- - Use the hints provided if you get stuck. -->"
      ]
    },
    {
      "cell_type": "markdown",
      "metadata": {
        "id": "DeFrQXfW7jpL"
      },
      "source": [
        "### Exercise 1: Match Email Addresses\n",
        "Write a regex pattern to match valid email addresses. An email address should contain an '@' symbol and a domain."
      ]
    },
    {
      "cell_type": "code",
      "execution_count": 11,
      "metadata": {
        "colab": {
          "base_uri": "https://localhost:8080/"
        },
        "id": "wRJqGuEK7jpM",
        "outputId": "2d34ea3e-4069-416f-a13e-687db7b43b99"
      },
      "outputs": [
        {
          "output_type": "stream",
          "name": "stdout",
          "text": [
            "Valid email\n"
          ]
        }
      ],
      "source": [
        "import re\n",
        "\n",
        "# Example input\n",
        "email = \"example@example.com\"\n",
        "\n",
        "# Your regex pattern here\n",
        "pattern = r\"^[a-z0-9._%+-]+@[a-z0-9.-]+\\.[a-z]{3}$\"\n",
        "\n",
        "# Test the regex\n",
        "if re.match(pattern, email):\n",
        "    print(\"Valid email\")\n",
        "else:\n",
        "    print(\"Invalid email\")"
      ]
    },
    {
      "cell_type": "markdown",
      "metadata": {
        "id": "Hq2xxXwD7jpN"
      },
      "source": [
        "### Exercise 2: Validate Phone Numbers\n",
        "Create a regex pattern to validate phone numbers in the format (123) 456-7890 or 123-456-7890."
      ]
    },
    {
      "cell_type": "code",
      "execution_count": 1,
      "metadata": {
        "colab": {
          "base_uri": "https://localhost:8080/"
        },
        "id": "fu92G5yJ7jpO",
        "outputId": "b16f134f-1b8d-4ff2-8271-f0e2e7235eb9"
      },
      "outputs": [
        {
          "output_type": "stream",
          "name": "stdout",
          "text": [
            "Valid phone number\n"
          ]
        }
      ],
      "source": [
        "import re\n",
        "\n",
        "# Example input\n",
        "phone_number = \"(123) 456-7890\"\n",
        "\n",
        "# Your regex pattern here\n",
        "pattern = r\"^\\(?\\d{3}\\)?[-\\s]?\\d{3}[-\\s]?\\d{4}$\"\n",
        "\n",
        "# Test the regex\n",
        "if re.match(pattern, phone_number):\n",
        "    print(\"Valid phone number\")\n",
        "else:\n",
        "    print(\"Invalid phone number\")"
      ]
    },
    {
      "cell_type": "markdown",
      "metadata": {
        "id": "7N552znl7jpO"
      },
      "source": [
        "### Exercise 3: Extract Dates\n",
        "Write a regex pattern to extract dates in the format YYYY-MM-DD from a string."
      ]
    },
    {
      "cell_type": "code",
      "execution_count": 6,
      "metadata": {
        "colab": {
          "base_uri": "https://localhost:8080/"
        },
        "id": "CKes4IpI7jpP",
        "outputId": "72b10784-210d-4134-92f3-4712c423974e"
      },
      "outputs": [
        {
          "output_type": "stream",
          "name": "stdout",
          "text": [
            "['2024-12-25']\n"
          ]
        }
      ],
      "source": [
        "import re\n",
        "\n",
        "# Example input\n",
        "text = \"The event is scheduled for 2024-12-25.\"\n",
        "\n",
        "# Your regex pattern here\n",
        "pattern = r\"\\d{4}-\\d{2}-\\d{2}\"\n",
        "\n",
        "# Find all matches\n",
        "dates = re.findall(pattern, text)\n",
        "print(dates)"
      ]
    },
    {
      "cell_type": "markdown",
      "metadata": {
        "id": "fKyevLiX7jpP"
      },
      "source": [
        "### Exercise 4: Match URLs\n",
        "Create a regex pattern to match URLs that start with http:// or https://."
      ]
    },
    {
      "cell_type": "code",
      "execution_count": 18,
      "metadata": {
        "colab": {
          "base_uri": "https://localhost:8080/"
        },
        "id": "8_DynAVN7jpQ",
        "outputId": "f3d95e50-feac-448b-a9fb-e2527191f11c"
      },
      "outputs": [
        {
          "output_type": "stream",
          "name": "stdout",
          "text": [
            "Valid URL\n"
          ]
        }
      ],
      "source": [
        "import re\n",
        "\n",
        "# Example input\n",
        "url = \"https://www.example.com\"\n",
        "\n",
        "# Your regex pattern here\n",
        "pattern = r\"^https?://\"\n",
        "\n",
        "# Test the regex\n",
        "if re.match(pattern, url):\n",
        "    print(\"Valid URL\")\n",
        "else:\n",
        "    print(\"Invalid URL\")"
      ]
    },
    {
      "cell_type": "markdown",
      "metadata": {
        "id": "NosIHxaW7jpQ"
      },
      "source": [
        "### Exercise 5: Find Words Starting with a Specific Letter\n",
        "Write a regex pattern to find all words starting with the letter 'a' in a given string."
      ]
    },
    {
      "cell_type": "code",
      "execution_count": 21,
      "metadata": {
        "colab": {
          "base_uri": "https://localhost:8080/"
        },
        "id": "ii9PLLeY7jpR",
        "outputId": "1d791f3f-1698-4eda-9583-276a872f9d49"
      },
      "outputs": [
        {
          "output_type": "stream",
          "name": "stdout",
          "text": [
            "['aumps', 'a']\n"
          ]
        }
      ],
      "source": [
        "import re\n",
        "\n",
        "# Example input\n",
        "text = \"A quick brown fox jumps over a lazy dog.\"\n",
        "\n",
        "# Your regex pattern here\n",
        "pattern = r\"\\ba\\w*\\b\"\n",
        "\n",
        "# Find all matches\n",
        "words = re.findall(pattern, text)\n",
        "print(words)"
      ]
    },
    {
      "cell_type": "markdown",
      "metadata": {
        "id": "W6xIwTgD7jpR"
      },
      "source": [
        "### Exercise 6: Match Hexadecimal Colors\n",
        "Create a regex pattern to match hexadecimal color codes (e.g., #FFFFFF)."
      ]
    },
    {
      "cell_type": "code",
      "execution_count": 22,
      "metadata": {
        "colab": {
          "base_uri": "https://localhost:8080/"
        },
        "id": "Gyy1z9lU7jpR",
        "outputId": "9adf1177-25d0-4b54-ab93-924225038d8b"
      },
      "outputs": [
        {
          "output_type": "stream",
          "name": "stdout",
          "text": [
            "Valid hex color code\n"
          ]
        }
      ],
      "source": [
        "import re\n",
        "\n",
        "# Example input\n",
        "color_code = \"#FFFFFF\"\n",
        "\n",
        "# Your regex pattern here\n",
        "pattern = r\"#[0-9A-Fa-f]{6}\\b\"\n",
        "\n",
        "# Test the regex\n",
        "if re.match(pattern, color_code):\n",
        "    print(\"Valid hex color code\")\n",
        "else:\n",
        "    print(\"Invalid hex color code\")"
      ]
    },
    {
      "cell_type": "markdown",
      "metadata": {
        "id": "JElDt_nX7jpS"
      },
      "source": [
        "### Exercise 7: Validate Passwords\n",
        "Write a regex pattern to validate passwords that must be at least 8 characters long and contain at least one uppercase letter, one lowercase letter, one digit, and one special character."
      ]
    },
    {
      "cell_type": "code",
      "execution_count": 23,
      "metadata": {
        "colab": {
          "base_uri": "https://localhost:8080/"
        },
        "id": "SKob-6wr7jpS",
        "outputId": "3508520a-18bc-47e0-f163-7098fb7402d6"
      },
      "outputs": [
        {
          "output_type": "stream",
          "name": "stdout",
          "text": [
            "Valid password\n"
          ]
        }
      ],
      "source": [
        "import re\n",
        "\n",
        "# Example input\n",
        "password = \"Password123!\"\n",
        "\n",
        "# Your regex pattern here\n",
        "pattern = r\"^(?=.*[a-z])(?=.*[A-Z])(?=.*\\d)(?=.*[!@#$%^&*(),.?\\\":{}|<>])[A-Za-z\\d!@#$%^&*(),.?\\\":{}|<>]{8,}$\"\n",
        "\n",
        "# Test the regex\n",
        "if re.match(pattern, password):\n",
        "    print(\"Valid password\")\n",
        "else:\n",
        "    print(\"Invalid password\")"
      ]
    },
    {
      "cell_type": "markdown",
      "metadata": {
        "id": "JD5uuYU37jpS"
      },
      "source": [
        "### Exercise 8: Remove Extra Spaces\n",
        "Create a regex pattern that removes extra spaces from a string while keeping single spaces between words."
      ]
    },
    {
      "cell_type": "code",
      "execution_count": 25,
      "metadata": {
        "colab": {
          "base_uri": "https://localhost:8080/"
        },
        "id": "Q8r_b4jd7jpS",
        "outputId": "6380d289-8288-483f-c056-44d632b8badd"
      },
      "outputs": [
        {
          "output_type": "stream",
          "name": "stdout",
          "text": [
            "This is an example.\n"
          ]
        }
      ],
      "source": [
        "import re\n",
        "\n",
        "# Example input\n",
        "text = \"This   is   an   example.\"\n",
        "\n",
        "# Your regex pattern here\n",
        "pattern = r\"\\s+\"\n",
        "\n",
        "# Replace extra spaces\n",
        "cleaned_text = re.sub(pattern, \" \", text)\n",
        "print(cleaned_text)"
      ]
    },
    {
      "cell_type": "markdown",
      "metadata": {
        "id": "Obta34A-7jpT"
      },
      "source": [
        "### Exercise 9: Match IP Addresses\n",
        "Write a regex pattern to match valid IPv4 addresses."
      ]
    },
    {
      "cell_type": "code",
      "execution_count": 26,
      "metadata": {
        "colab": {
          "base_uri": "https://localhost:8080/"
        },
        "id": "S3Yatcmx7jpT",
        "outputId": "0b53eb87-3383-468f-9cb6-f50a095c0307"
      },
      "outputs": [
        {
          "output_type": "stream",
          "name": "stdout",
          "text": [
            "Valid IP address\n"
          ]
        }
      ],
      "source": [
        "import re\n",
        "\n",
        "# Example input\n",
        "ip_address = \"192.168.1.1\"\n",
        "\n",
        "# Your regex pattern here\n",
        "pattern = r\"^(25[0-5]|2[0-4][0-9]|[01]?[0-9][0-9]?)\\.(25[0-5]|2[0-4][0-9]|[01]?[0-9][0-9]?)\\.(25[0-5]|2[0-4][0-9]|[01]?[0-9][0-9]?)\\.(25[0-5]|2[0-4][0-9]|[01]?[0-9][0-9]?)$\"\n",
        "\n",
        "# Test the regex\n",
        "if re.match(pattern, ip_address):\n",
        "    print(\"Valid IP address\")\n",
        "else:\n",
        "    print(\"Invalid IP address\")"
      ]
    },
    {
      "cell_type": "markdown",
      "metadata": {
        "id": "hPBWoMpY7jpT"
      },
      "source": [
        "### Exercise 10: Extract Hashtags\n",
        "Create a regex pattern to extract hashtags from a string."
      ]
    },
    {
      "cell_type": "code",
      "execution_count": 27,
      "metadata": {
        "colab": {
          "base_uri": "https://localhost:8080/"
        },
        "id": "6dwHjVmj7jpU",
        "outputId": "81f41134-fbc2-429d-889c-d8831e2c314f"
      },
      "outputs": [
        {
          "output_type": "stream",
          "name": "stdout",
          "text": [
            "['Here', 'are', 'some', 'hashtags', 'Python', 'Regex', 'Coding']\n"
          ]
        }
      ],
      "source": [
        "import re\n",
        "\n",
        "# Example input\n",
        "text = \"Here are some hashtags: #Python #Regex #Coding.\"\n",
        "\n",
        "# Your regex pattern here\n",
        "pattern = r\"\\w+\"\n",
        "\n",
        "# Find all matches\n",
        "hashtags = re.findall(pattern, text)\n",
        "print(hashtags)"
      ]
    },
    {
      "cell_type": "markdown",
      "metadata": {
        "id": "TizPQVmE7jpU"
      },
      "source": [
        "## Bonus Exercises\n"
      ]
    },
    {
      "cell_type": "markdown",
      "metadata": {
        "id": "dlF8GzyA7jpU"
      },
      "source": [
        "\n",
        "### Bonus Exercise 1: Match All Digits\n",
        "Write a regex pattern to match all digits in a given string."
      ]
    },
    {
      "cell_type": "code",
      "execution_count": 28,
      "metadata": {
        "colab": {
          "base_uri": "https://localhost:8080/"
        },
        "id": "-caKhF9q7jpV",
        "outputId": "8a60eeec-08e1-472c-9fbc-a9087ef94c93"
      },
      "outputs": [
        {
          "output_type": "stream",
          "name": "stdout",
          "text": [
            "['2', '3']\n"
          ]
        }
      ],
      "source": [
        "import re\n",
        "\n",
        "# Example input\n",
        "text = \"There are 2 apples and 3 oranges.\"\n",
        "\n",
        "# Your regex pattern here\n",
        "pattern = r\"\\d+\"\n",
        "\n",
        "# Find all matches\n",
        "digits = re.findall(pattern, text)\n",
        "print(digits)"
      ]
    },
    {
      "cell_type": "markdown",
      "metadata": {
        "id": "vfLXQm5c7jpV"
      },
      "source": [
        "### Bonus Exercise 2: Validate Credit Card Numbers  \n",
        "Create a regex pattern to validate credit card numbers (16 digits)."
      ]
    },
    {
      "cell_type": "code",
      "execution_count": 30,
      "metadata": {
        "colab": {
          "base_uri": "https://localhost:8080/"
        },
        "id": "5vs8hFF37jpV",
        "outputId": "15191ab3-ab96-4285-b9c6-43f26306f4b5"
      },
      "outputs": [
        {
          "output_type": "stream",
          "name": "stdout",
          "text": [
            "Valid credit card number\n"
          ]
        }
      ],
      "source": [
        "import re\n",
        "\n",
        "# Example input\n",
        "credit_card_number = \"1234-5678-9876-5432\"\n",
        "\n",
        "# Your regex pattern here\n",
        "pattern = r\"\\d{4}-\\d{4}-\\d{4}\"\n",
        "\n",
        "# Test the regex\n",
        "if re.match(pattern, credit_card_number):\n",
        "    print(\"Valid credit card number\")\n",
        "else:\n",
        "    print(\"Invalid credit card number\")"
      ]
    },
    {
      "cell_type": "markdown",
      "metadata": {
        "id": "3Zl-S2OP7jpV"
      },
      "source": [
        "### Bonus Exercise 3: Match Non-Alphanumeric Characters  \n",
        "Write a regex pattern to match non-alphanumeric characters in a string."
      ]
    },
    {
      "cell_type": "code",
      "execution_count": 32,
      "metadata": {
        "colab": {
          "base_uri": "https://localhost:8080/"
        },
        "id": "A-Aax5kz7jpW",
        "outputId": "7fbbb216-1cc1-48a3-c753-e6aaf70c254e"
      },
      "outputs": [
        {
          "output_type": "stream",
          "name": "stdout",
          "text": [
            "['!', ' ', ' ', ' ', '?', ' ', '@', '.']\n"
          ]
        }
      ],
      "source": [
        "import re\n",
        "\n",
        "# Example input\n",
        "text = \"Hello! How are you? @Python3.\"\n",
        "\n",
        "# Your regex pattern here\n",
        "pattern =  r\"[^a-zA-Z0-9]\"\n",
        "\n",
        "# Find all matches\n",
        "non_alphanumeric_chars = re.findall(pattern, text)\n",
        "print(non_alphanumeric_chars)"
      ]
    },
    {
      "cell_type": "markdown",
      "metadata": {
        "id": "knrpihua7jpW"
      },
      "source": [
        "### Bonus Exercise 4: Validate Date Format  \n",
        "Create a regex pattern to validate dates in the format DD/MM/YYYY."
      ]
    },
    {
      "cell_type": "code",
      "execution_count": 33,
      "metadata": {
        "colab": {
          "base_uri": "https://localhost:8080/"
        },
        "id": "vd7CgxF07jpW",
        "outputId": "27f44b11-51cc-4a73-e844-d806ed848ed8"
      },
      "outputs": [
        {
          "output_type": "stream",
          "name": "stdout",
          "text": [
            "Valid date format\n"
          ]
        }
      ],
      "source": [
        "import re\n",
        "\n",
        "# Example input\n",
        "date_string = \"25/12/2024\"\n",
        "\n",
        "# Your regex pattern here\n",
        "pattern = r\"^(0[1-9]|[12][0-9]|3[01])/(0[1-9]|1[0-2])/\\d{4}$\"\n",
        "\n",
        "# Test the regex\n",
        "if re.match(pattern, date_string):\n",
        "    print(\"Valid date format\")\n",
        "else:\n",
        "    print(\"Invalid date format\")"
      ]
    },
    {
      "cell_type": "markdown",
      "metadata": {
        "id": "LhOJQU6x7jpX"
      },
      "source": [
        "### Bonus Exercise 5: Extract Email Domains  \n",
        "Write a regex pattern to extract domains from email addresses."
      ]
    },
    {
      "cell_type": "code",
      "execution_count": 34,
      "metadata": {
        "colab": {
          "base_uri": "https://localhost:8080/"
        },
        "id": "wBP1nf4Q7jpX",
        "outputId": "80aaebe0-ad62-4788-b5f3-1c7e79e9ef22"
      },
      "outputs": [
        {
          "output_type": "stream",
          "name": "stdout",
          "text": [
            "<re.Match object; span=(5, 16), match='example.com'>\n",
            "<re.Match object; span=(6, 16), match='domain.org'>\n"
          ]
        }
      ],
      "source": [
        "import re\n",
        "\n",
        "# Example input\n",
        "email_list = [\"user@example.com\", \"admin@domain.org\"]\n",
        "\n",
        "# Your regex pattern here\n",
        "pattern = r\"(?<=@)[a-zA-Z0-9.-]+\"\n",
        "\n",
        "for email in email_list:\n",
        "    domain = re.search(pattern, email)\n",
        "    if domain:\n",
        "        print(domain)  # Print extracted domain part."
      ]
    },
    {
      "cell_type": "markdown",
      "metadata": {
        "id": "yJ0HMv-p7jpX"
      },
      "source": [
        "### Exercise Completion  \n",
        "Once you have completed all exercises:\n",
        "- Review your solutions.\n",
        "- Ensure your regular expressions and Python code are well-documented with comments explaining your logic.\n",
        "- Save your notebook for submission or further review.\n",
        "\n",
        "Happy coding! Enjoy practicing Regular Expressions in Python!"
      ]
    }
  ],
  "metadata": {
    "kernelspec": {
      "display_name": ".venv",
      "language": "python",
      "name": "python3"
    },
    "language_info": {
      "codemirror_mode": {
        "name": "ipython",
        "version": 3
      },
      "file_extension": ".py",
      "mimetype": "text/x-python",
      "name": "python",
      "nbconvert_exporter": "python",
      "pygments_lexer": "ipython3",
      "version": "3.8.0"
    },
    "colab": {
      "provenance": []
    }
  },
  "nbformat": 4,
  "nbformat_minor": 0
}